{
 "cells": [
  {
   "cell_type": "code",
   "execution_count": 1,
   "id": "9f7e0e4c",
   "metadata": {},
   "outputs": [
    {
     "name": "stdout",
     "output_type": "stream",
     "text": [
      "IPython console for SymPy 1.11.1 (Python 3.10.9-64-bit) (ground types: python)\n",
      "\n",
      "These commands were executed:\n",
      ">>> from sympy import *\n",
      ">>> x, y, z, t = symbols('x y z t')\n",
      ">>> k, m, n = symbols('k m n', integer=True)\n",
      ">>> f, g, h = symbols('f g h', cls=Function)\n",
      ">>> init_printing()\n",
      "\n",
      "Documentation can be found at https://docs.sympy.org/1.11.1/\n",
      "\n"
     ]
    }
   ],
   "source": [
    "from sympy import init_session\n",
    "init_session()"
   ]
  },
  {
   "cell_type": "code",
   "execution_count": 2,
   "id": "01017714",
   "metadata": {},
   "outputs": [],
   "source": [
    "a, b, c = symbols(\"a b c\")\n",
    "dx = symbols(\"\\Delta{}x\")\n",
    "f0, f1, f2 = symbols(\"f_0 f_1 f_2\")"
   ]
  },
  {
   "cell_type": "code",
   "execution_count": 3,
   "id": "98f0ea16",
   "metadata": {},
   "outputs": [
    {
     "data": {
      "image/png": "[encoded data removed]",
      "text/latex": [
       "$\\displaystyle \\left\\{ a : \\frac{f_{0} - 2 f_{1} + f_{2}}{2 \\Delta{}x^{2}}, \\  b : \\frac{- 3 f_{0} + 4 f_{1} - f_{2}}{2 \\Delta{}x}, \\  c : f_{0}\\right\\}$"
      ],
      "text/plain": [
       "⎧   f₀ - 2⋅f₁ + f₂     -3⋅f₀ + 4⋅f₁ - f₂       ⎫\n",
       "⎪a: ──────────────, b: ─────────────────, c: f₀⎪\n",
       "⎨               2         2⋅\\Delta{}x          ⎬\n",
       "⎪    2⋅\\Delta{}x                               ⎪\n",
       "⎩                                              ⎭"
      ]
     },
     "execution_count": 3,
     "metadata": {},
     "output_type": "execute_result"
    }
   ],
   "source": [
    "coeffs = solve([Eq(f0, c),\n",
    "                Eq(f1, a * dx**2 + b * dx + c),\n",
    "                Eq(f2, 4 * a * dx**2 + 2 * b * dx + c)],\n",
    "               [a, b, c])\n",
    "coeffs"
   ]
  },
  {
   "cell_type": "code",
   "execution_count": 4,
   "id": "82aedba5",
   "metadata": {},
   "outputs": [],
   "source": [
    "x0 = symbols(\"x_0\")"
   ]
  },
  {
   "cell_type": "code",
   "execution_count": 5,
   "id": "a4e670b3",
   "metadata": {},
   "outputs": [
    {
     "data": {
      "image/png": "[encoded data removed]",
      "text/latex": [
       "$\\displaystyle \\frac{\\Delta{}x \\left(5 f_{0} + 8 f_{1} - f_{2}\\right)}{12}$"
      ],
      "text/plain": [
       "\\Delta{}x⋅(5⋅f₀ + 8⋅f₁ - f₂)\n",
       "────────────────────────────\n",
       "             12             "
      ]
     },
     "execution_count": 5,
     "metadata": {},
     "output_type": "execute_result"
    }
   ],
   "source": [
    "I = integrate(coeffs[a] * (x - x0)**2 + coeffs[b] * (x - x0) + coeffs[c],\n",
    "              [x, x0, x0+dx])\n",
    "simplify(I)"
   ]
  },
  {
   "cell_type": "code",
   "execution_count": null,
   "id": "10906f1b",
   "metadata": {},
   "outputs": [],
   "source": []
  }
 ],
 "metadata": {
  "kernelspec": {
   "display_name": "Python 3 (ipykernel)",
   "language": "python",
   "name": "python3"
  },
  "language_info": {
   "codemirror_mode": {
    "name": "ipython",
    "version": 3
   },
   "file_extension": ".py",
   "mimetype": "text/x-python",
   "name": "python",
   "nbconvert_exporter": "python",
   "pygments_lexer": "ipython3",
   "version": "3.10.9"
  }
 },
 "nbformat": 4,
 "nbformat_minor": 5
}
